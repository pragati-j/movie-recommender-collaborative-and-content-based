{
  "nbformat": 4,
  "nbformat_minor": 0,
  "metadata": {
    "colab": {
      "name": "Untitled3.ipynb",
      "provenance": [],
      "authorship_tag": "ABX9TyP203/z6lknUEsKq0p9IzWn",
      "include_colab_link": true
    },
    "kernelspec": {
      "name": "python3",
      "display_name": "Python 3"
    },
    "language_info": {
      "name": "python"
    }
  },
  "cells": [
    {
      "cell_type": "markdown",
      "metadata": {
        "id": "view-in-github",
        "colab_type": "text"
      },
      "source": [
        "<a href=\"https://colab.research.google.com/github/pragati-j/pragati-j/blob/main/Untitled3.ipynb\" target=\"_parent\"><img src=\"https://colab.research.google.com/assets/colab-badge.svg\" alt=\"Open In Colab\"/></a>"
      ]
    },
    {
      "cell_type": "code",
      "execution_count": 24,
      "metadata": {
        "colab": {
          "base_uri": "https://localhost:8080/"
        },
        "id": "FdTnzUT6x5jL",
        "outputId": "cb18ef27-72cf-4b89-ff9f-6ee5a332e595"
      },
      "outputs": [
        {
          "output_type": "stream",
          "name": "stdout",
          "text": [
            "Looking in indexes: https://pypi.org/simple, https://us-python.pkg.dev/colab-wheels/public/simple/\n",
            "Collecting fuzzywuzzy\n",
            "  Downloading fuzzywuzzy-0.18.0-py2.py3-none-any.whl (18 kB)\n",
            "Installing collected packages: fuzzywuzzy\n",
            "Successfully installed fuzzywuzzy-0.18.0\n"
          ]
        },
        {
          "output_type": "stream",
          "name": "stderr",
          "text": [
            "/usr/local/lib/python3.7/dist-packages/fuzzywuzzy/fuzz.py:11: UserWarning: Using slow pure-python SequenceMatcher. Install python-Levenshtein to remove this warning\n",
            "  warnings.warn('Using slow pure-python SequenceMatcher. Install python-Levenshtein to remove this warning')\n"
          ]
        }
      ],
      "source": [
        "import pandas as pd\n",
        "from scipy.sparse import csr_matrix\n",
        "from sklearn.neighbors import NearestNeighbors\n",
        "\n",
        "!pip install fuzzywuzzy\n",
        "from fuzzywuzzy import process"
      ]
    },
    {
      "cell_type": "code",
      "source": [
        "movies='movies.csv'\n",
        "ratings='ratings.csv'\n",
        "\n",
        "df_movies=pd.read_csv(movies,usecols=['movieId','title'],dtype={'movieId':'int32','title':'str'})\n",
        "df_ratings=pd.read_csv(ratings,usecols=['userId','movieId','rating'],dtype={'movieId':'int32','userId':'int32','rating':'float32'})"
      ],
      "metadata": {
        "id": "iYHvR5l9yfUO"
      },
      "execution_count": 25,
      "outputs": []
    },
    {
      "cell_type": "code",
      "source": [
        "df_movies.head()\n",
        "df_ratings.head()"
      ],
      "metadata": {
        "colab": {
          "base_uri": "https://localhost:8080/",
          "height": 206
        },
        "id": "AkJLKJlSzCup",
        "outputId": "5be83bb1-b8cc-4cb5-c23f-fdaff2025306"
      },
      "execution_count": 26,
      "outputs": [
        {
          "output_type": "execute_result",
          "data": {
            "text/plain": [
              "   userId  movieId  rating\n",
              "0       1        1     4.0\n",
              "1       1        3     4.0\n",
              "2       1        6     4.0\n",
              "3       1       47     5.0\n",
              "4       1       50     5.0"
            ],
            "text/html": [
              "\n",
              "  <div id=\"df-fabbc567-af76-49f6-a586-499b60aa8538\">\n",
              "    <div class=\"colab-df-container\">\n",
              "      <div>\n",
              "<style scoped>\n",
              "    .dataframe tbody tr th:only-of-type {\n",
              "        vertical-align: middle;\n",
              "    }\n",
              "\n",
              "    .dataframe tbody tr th {\n",
              "        vertical-align: top;\n",
              "    }\n",
              "\n",
              "    .dataframe thead th {\n",
              "        text-align: right;\n",
              "    }\n",
              "</style>\n",
              "<table border=\"1\" class=\"dataframe\">\n",
              "  <thead>\n",
              "    <tr style=\"text-align: right;\">\n",
              "      <th></th>\n",
              "      <th>userId</th>\n",
              "      <th>movieId</th>\n",
              "      <th>rating</th>\n",
              "    </tr>\n",
              "  </thead>\n",
              "  <tbody>\n",
              "    <tr>\n",
              "      <th>0</th>\n",
              "      <td>1</td>\n",
              "      <td>1</td>\n",
              "      <td>4.0</td>\n",
              "    </tr>\n",
              "    <tr>\n",
              "      <th>1</th>\n",
              "      <td>1</td>\n",
              "      <td>3</td>\n",
              "      <td>4.0</td>\n",
              "    </tr>\n",
              "    <tr>\n",
              "      <th>2</th>\n",
              "      <td>1</td>\n",
              "      <td>6</td>\n",
              "      <td>4.0</td>\n",
              "    </tr>\n",
              "    <tr>\n",
              "      <th>3</th>\n",
              "      <td>1</td>\n",
              "      <td>47</td>\n",
              "      <td>5.0</td>\n",
              "    </tr>\n",
              "    <tr>\n",
              "      <th>4</th>\n",
              "      <td>1</td>\n",
              "      <td>50</td>\n",
              "      <td>5.0</td>\n",
              "    </tr>\n",
              "  </tbody>\n",
              "</table>\n",
              "</div>\n",
              "      <button class=\"colab-df-convert\" onclick=\"convertToInteractive('df-fabbc567-af76-49f6-a586-499b60aa8538')\"\n",
              "              title=\"Convert this dataframe to an interactive table.\"\n",
              "              style=\"display:none;\">\n",
              "        \n",
              "  <svg xmlns=\"http://www.w3.org/2000/svg\" height=\"24px\"viewBox=\"0 0 24 24\"\n",
              "       width=\"24px\">\n",
              "    <path d=\"M0 0h24v24H0V0z\" fill=\"none\"/>\n",
              "    <path d=\"M18.56 5.44l.94 2.06.94-2.06 2.06-.94-2.06-.94-.94-2.06-.94 2.06-2.06.94zm-11 1L8.5 8.5l.94-2.06 2.06-.94-2.06-.94L8.5 2.5l-.94 2.06-2.06.94zm10 10l.94 2.06.94-2.06 2.06-.94-2.06-.94-.94-2.06-.94 2.06-2.06.94z\"/><path d=\"M17.41 7.96l-1.37-1.37c-.4-.4-.92-.59-1.43-.59-.52 0-1.04.2-1.43.59L10.3 9.45l-7.72 7.72c-.78.78-.78 2.05 0 2.83L4 21.41c.39.39.9.59 1.41.59.51 0 1.02-.2 1.41-.59l7.78-7.78 2.81-2.81c.8-.78.8-2.07 0-2.86zM5.41 20L4 18.59l7.72-7.72 1.47 1.35L5.41 20z\"/>\n",
              "  </svg>\n",
              "      </button>\n",
              "      \n",
              "  <style>\n",
              "    .colab-df-container {\n",
              "      display:flex;\n",
              "      flex-wrap:wrap;\n",
              "      gap: 12px;\n",
              "    }\n",
              "\n",
              "    .colab-df-convert {\n",
              "      background-color: #E8F0FE;\n",
              "      border: none;\n",
              "      border-radius: 50%;\n",
              "      cursor: pointer;\n",
              "      display: none;\n",
              "      fill: #1967D2;\n",
              "      height: 32px;\n",
              "      padding: 0 0 0 0;\n",
              "      width: 32px;\n",
              "    }\n",
              "\n",
              "    .colab-df-convert:hover {\n",
              "      background-color: #E2EBFA;\n",
              "      box-shadow: 0px 1px 2px rgba(60, 64, 67, 0.3), 0px 1px 3px 1px rgba(60, 64, 67, 0.15);\n",
              "      fill: #174EA6;\n",
              "    }\n",
              "\n",
              "    [theme=dark] .colab-df-convert {\n",
              "      background-color: #3B4455;\n",
              "      fill: #D2E3FC;\n",
              "    }\n",
              "\n",
              "    [theme=dark] .colab-df-convert:hover {\n",
              "      background-color: #434B5C;\n",
              "      box-shadow: 0px 1px 3px 1px rgba(0, 0, 0, 0.15);\n",
              "      filter: drop-shadow(0px 1px 2px rgba(0, 0, 0, 0.3));\n",
              "      fill: #FFFFFF;\n",
              "    }\n",
              "  </style>\n",
              "\n",
              "      <script>\n",
              "        const buttonEl =\n",
              "          document.querySelector('#df-fabbc567-af76-49f6-a586-499b60aa8538 button.colab-df-convert');\n",
              "        buttonEl.style.display =\n",
              "          google.colab.kernel.accessAllowed ? 'block' : 'none';\n",
              "\n",
              "        async function convertToInteractive(key) {\n",
              "          const element = document.querySelector('#df-fabbc567-af76-49f6-a586-499b60aa8538');\n",
              "          const dataTable =\n",
              "            await google.colab.kernel.invokeFunction('convertToInteractive',\n",
              "                                                     [key], {});\n",
              "          if (!dataTable) return;\n",
              "\n",
              "          const docLinkHtml = 'Like what you see? Visit the ' +\n",
              "            '<a target=\"_blank\" href=https://colab.research.google.com/notebooks/data_table.ipynb>data table notebook</a>'\n",
              "            + ' to learn more about interactive tables.';\n",
              "          element.innerHTML = '';\n",
              "          dataTable['output_type'] = 'display_data';\n",
              "          await google.colab.output.renderOutput(dataTable, element);\n",
              "          const docLink = document.createElement('div');\n",
              "          docLink.innerHTML = docLinkHtml;\n",
              "          element.appendChild(docLink);\n",
              "        }\n",
              "      </script>\n",
              "    </div>\n",
              "  </div>\n",
              "  "
            ]
          },
          "metadata": {},
          "execution_count": 26
        }
      ]
    },
    {
      "cell_type": "code",
      "source": [
        "#sparse matrix\n",
        "movies_users=df_ratings.pivot(index='movieId',columns='userId',values='rating').fillna(0)\n",
        "\n",
        "mat_movies_users=csr_matrix(movies_users.values)"
      ],
      "metadata": {
        "id": "GFjaGVTCzbs2"
      },
      "execution_count": 27,
      "outputs": []
    },
    {
      "cell_type": "code",
      "source": [
        "print(mat_movies_users)"
      ],
      "metadata": {
        "colab": {
          "base_uri": "https://localhost:8080/"
        },
        "id": "jUUG39vH0_jQ",
        "outputId": "2a5d81c9-9c0c-4b98-c375-fa0caa9685cd"
      },
      "execution_count": 28,
      "outputs": [
        {
          "output_type": "stream",
          "name": "stdout",
          "text": [
            "  (0, 0)\t4.0\n",
            "  (0, 4)\t4.0\n",
            "  (0, 6)\t4.5\n",
            "  (0, 14)\t2.5\n",
            "  (0, 16)\t4.5\n",
            "  (0, 17)\t3.5\n",
            "  (0, 18)\t4.0\n",
            "  (0, 20)\t3.5\n",
            "  (0, 26)\t3.0\n",
            "  (0, 30)\t5.0\n",
            "  (0, 31)\t3.0\n",
            "  (0, 32)\t3.0\n",
            "  (0, 39)\t5.0\n",
            "  (0, 42)\t5.0\n",
            "  (0, 43)\t3.0\n",
            "  (0, 44)\t4.0\n",
            "  (0, 45)\t5.0\n",
            "  (0, 49)\t3.0\n",
            "  (0, 53)\t3.0\n",
            "  (0, 56)\t5.0\n",
            "  (0, 62)\t5.0\n",
            "  (0, 63)\t4.0\n",
            "  (0, 65)\t4.0\n",
            "  (0, 67)\t2.5\n",
            "  (0, 70)\t5.0\n",
            "  :\t:\n",
            "  (9700, 337)\t2.5\n",
            "  (9701, 337)\t3.0\n",
            "  (9702, 183)\t4.0\n",
            "  (9702, 247)\t3.5\n",
            "  (9703, 317)\t2.5\n",
            "  (9704, 209)\t1.0\n",
            "  (9705, 461)\t2.5\n",
            "  (9706, 49)\t3.5\n",
            "  (9707, 337)\t1.5\n",
            "  (9708, 337)\t4.0\n",
            "  (9709, 337)\t1.0\n",
            "  (9710, 337)\t1.5\n",
            "  (9711, 337)\t1.0\n",
            "  (9712, 337)\t1.0\n",
            "  (9713, 183)\t4.5\n",
            "  (9714, 183)\t3.5\n",
            "  (9715, 183)\t3.0\n",
            "  (9716, 183)\t4.0\n",
            "  (9717, 183)\t4.0\n",
            "  (9718, 183)\t3.5\n",
            "  (9719, 183)\t4.0\n",
            "  (9720, 183)\t3.5\n",
            "  (9721, 183)\t3.5\n",
            "  (9722, 183)\t3.5\n",
            "  (9723, 330)\t4.0\n"
          ]
        }
      ]
    },
    {
      "cell_type": "code",
      "source": [
        "model_knn=NearestNeighbors(metric='cosine',algorithm='brute',n_neighbors=10)"
      ],
      "metadata": {
        "id": "gm8GaoiN19IU"
      },
      "execution_count": 29,
      "outputs": []
    },
    {
      "cell_type": "code",
      "source": [
        "model_knn.fit(mat_movies_users)"
      ],
      "metadata": {
        "colab": {
          "base_uri": "https://localhost:8080/"
        },
        "id": "GbNlLuxZ3ynj",
        "outputId": "5082af54-6697-41db-bafd-00eff3f9a1f7"
      },
      "execution_count": 30,
      "outputs": [
        {
          "output_type": "execute_result",
          "data": {
            "text/plain": [
              "NearestNeighbors(algorithm='brute', metric='cosine', n_neighbors=10)"
            ]
          },
          "metadata": {},
          "execution_count": 30
        }
      ]
    },
    {
      "cell_type": "code",
      "source": [
        "def recommender(movie_name,data, model,n):\n",
        "\n",
        "  model.fit(data)\n",
        "  closet_match=process.extractOne(movie_name,df_movies['title'])\n",
        "  idx=closet_match[2]\n",
        "  print('Movie: ', df_movies['title'][idx],'Index: ',idx)\n",
        "  print('Recommended movies:')\n",
        "  distances, indices= model.kneighbors(data[idx],n_neighbors=n)\n",
        "  for i in indices:\n",
        "    print(df_movies['title'][i])\n"
      ],
      "metadata": {
        "id": "6uX6sdts4o_C"
      },
      "execution_count": 75,
      "outputs": []
    },
    {
      "cell_type": "code",
      "source": [
        "recommender('iron man',mat_movies_users, model_knn,10)"
      ],
      "metadata": {
        "colab": {
          "base_uri": "https://localhost:8080/"
        },
        "id": "MddwHz6D6s4e",
        "outputId": "533fcd78-c674-4179-f299-675622c2b04d"
      },
      "execution_count": 76,
      "outputs": [
        {
          "output_type": "stream",
          "name": "stdout",
          "text": [
            "Movie:  Iron Man (2008) Index:  6743\n",
            "Recommended movies:\n",
            "6743                                Iron Man (2008)\n",
            "7197                                  Garage (2007)\n",
            "7195                        Merry Madagascar (2009)\n",
            "7354                             A-Team, The (2010)\n",
            "6726                         Superhero Movie (2008)\n",
            "7137                         Thirst (Bakjwi) (2009)\n",
            "7026                                 Scorpio (1973)\n",
            "7571                                 Win Win (2011)\n",
            "3880                  Look Who's Talking Now (1993)\n",
            "6388    After the Wedding (Efter brylluppet) (2006)\n",
            "Name: title, dtype: object\n"
          ]
        }
      ]
    },
    {
      "cell_type": "code",
      "source": [
        ""
      ],
      "metadata": {
        "id": "d-Cfyt7r65xs"
      },
      "execution_count": null,
      "outputs": []
    }
  ]
}
